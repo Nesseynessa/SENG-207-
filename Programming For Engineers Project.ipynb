{
 "cells": [
  {
   "cell_type": "markdown",
   "id": "c7dd60a3",
   "metadata": {},
   "source": [
    "### Name: Vanessa Naa Atswei Adjei\n",
    "\n",
    "### ID: 10977362\n",
    "\n",
    "### Department: Biomedical Engineering\n",
    "\n",
    "\n",
    "### __Programming Project__\n",
    "---"
   ]
  },
  {
   "cell_type": "code",
   "execution_count": 1,
   "id": "91c50fa1",
   "metadata": {},
   "outputs": [],
   "source": [
    "#importing libraries\n",
    "import pandas as pd\n",
    "import seaborn as sns\n",
    "from matplotlib import pyplot as pd"
   ]
  },
  {
   "cell_type": "code",
   "execution_count": 2,
   "id": "e2044f22",
   "metadata": {},
   "outputs": [],
   "source": [
    "import pandas as pd"
   ]
  },
  {
   "cell_type": "markdown",
   "id": "6000913c",
   "metadata": {},
   "source": [
    "Displaying the DataFrame for this project"
   ]
  },
  {
   "cell_type": "code",
   "execution_count": 3,
   "id": "a4ce54d2",
   "metadata": {},
   "outputs": [],
   "source": [
    "df=pd.read_csv('data.csv')"
   ]
  },
  {
   "cell_type": "code",
   "execution_count": 4,
   "id": "6aa110bc",
   "metadata": {},
   "outputs": [
    {
     "data": {
      "text/html": [
       "<div>\n",
       "<style scoped>\n",
       "    .dataframe tbody tr th:only-of-type {\n",
       "        vertical-align: middle;\n",
       "    }\n",
       "\n",
       "    .dataframe tbody tr th {\n",
       "        vertical-align: top;\n",
       "    }\n",
       "\n",
       "    .dataframe thead th {\n",
       "        text-align: right;\n",
       "    }\n",
       "</style>\n",
       "<table border=\"1\" class=\"dataframe\">\n",
       "  <thead>\n",
       "    <tr style=\"text-align: right;\">\n",
       "      <th></th>\n",
       "      <th>ID</th>\n",
       "      <th>fixed acidity</th>\n",
       "      <th>volatile acidity</th>\n",
       "      <th>citric acid</th>\n",
       "      <th>residual sugar</th>\n",
       "      <th>chlorides</th>\n",
       "      <th>free sulfur dioxide</th>\n",
       "      <th>total sulfur dioxide</th>\n",
       "      <th>density</th>\n",
       "      <th>pH</th>\n",
       "      <th>sulphates</th>\n",
       "      <th>alcohol</th>\n",
       "      <th>quality</th>\n",
       "    </tr>\n",
       "  </thead>\n",
       "  <tbody>\n",
       "    <tr>\n",
       "      <th>0</th>\n",
       "      <td>1</td>\n",
       "      <td>7.4</td>\n",
       "      <td>0.700</td>\n",
       "      <td>0.00</td>\n",
       "      <td>1.9</td>\n",
       "      <td>0.076</td>\n",
       "      <td>11.0</td>\n",
       "      <td>34.0</td>\n",
       "      <td>0.99780</td>\n",
       "      <td>3.51</td>\n",
       "      <td>0.56</td>\n",
       "      <td>9.4</td>\n",
       "      <td>5.0</td>\n",
       "    </tr>\n",
       "    <tr>\n",
       "      <th>1</th>\n",
       "      <td>2</td>\n",
       "      <td>7.8</td>\n",
       "      <td>0.880</td>\n",
       "      <td>0.00</td>\n",
       "      <td>2.6</td>\n",
       "      <td>0.098</td>\n",
       "      <td>25.0</td>\n",
       "      <td>67.0</td>\n",
       "      <td>0.99680</td>\n",
       "      <td>3.20</td>\n",
       "      <td>0.68</td>\n",
       "      <td>9.8</td>\n",
       "      <td>5.0</td>\n",
       "    </tr>\n",
       "    <tr>\n",
       "      <th>2</th>\n",
       "      <td>3</td>\n",
       "      <td>7.8</td>\n",
       "      <td>0.760</td>\n",
       "      <td>0.04</td>\n",
       "      <td>2.3</td>\n",
       "      <td>0.092</td>\n",
       "      <td>15.0</td>\n",
       "      <td>54.0</td>\n",
       "      <td>0.99700</td>\n",
       "      <td>NaN</td>\n",
       "      <td>0.65</td>\n",
       "      <td>9.8</td>\n",
       "      <td>5.0</td>\n",
       "    </tr>\n",
       "    <tr>\n",
       "      <th>3</th>\n",
       "      <td>4</td>\n",
       "      <td>11.2</td>\n",
       "      <td>0.280</td>\n",
       "      <td>0.56</td>\n",
       "      <td>1.9</td>\n",
       "      <td>0.075</td>\n",
       "      <td>17.0</td>\n",
       "      <td>60.0</td>\n",
       "      <td>0.99800</td>\n",
       "      <td>3.16</td>\n",
       "      <td>0.58</td>\n",
       "      <td>9.8</td>\n",
       "      <td>6.0</td>\n",
       "    </tr>\n",
       "    <tr>\n",
       "      <th>4</th>\n",
       "      <td>5</td>\n",
       "      <td>7.4</td>\n",
       "      <td>0.700</td>\n",
       "      <td>0.00</td>\n",
       "      <td>1.9</td>\n",
       "      <td>0.076</td>\n",
       "      <td>11.0</td>\n",
       "      <td>34.0</td>\n",
       "      <td>0.99780</td>\n",
       "      <td>3.51</td>\n",
       "      <td>0.56</td>\n",
       "      <td>9.4</td>\n",
       "      <td>5.0</td>\n",
       "    </tr>\n",
       "    <tr>\n",
       "      <th>...</th>\n",
       "      <td>...</td>\n",
       "      <td>...</td>\n",
       "      <td>...</td>\n",
       "      <td>...</td>\n",
       "      <td>...</td>\n",
       "      <td>...</td>\n",
       "      <td>...</td>\n",
       "      <td>...</td>\n",
       "      <td>...</td>\n",
       "      <td>...</td>\n",
       "      <td>...</td>\n",
       "      <td>...</td>\n",
       "      <td>...</td>\n",
       "    </tr>\n",
       "    <tr>\n",
       "      <th>1596</th>\n",
       "      <td>1597</td>\n",
       "      <td>5.9</td>\n",
       "      <td>0.550</td>\n",
       "      <td>0.10</td>\n",
       "      <td>2.2</td>\n",
       "      <td>0.062</td>\n",
       "      <td>39.0</td>\n",
       "      <td>51.0</td>\n",
       "      <td>0.99512</td>\n",
       "      <td>3.52</td>\n",
       "      <td>0.76</td>\n",
       "      <td>11.2</td>\n",
       "      <td>6.0</td>\n",
       "    </tr>\n",
       "    <tr>\n",
       "      <th>1597</th>\n",
       "      <td>1598</td>\n",
       "      <td>6.3</td>\n",
       "      <td>0.510</td>\n",
       "      <td>0.13</td>\n",
       "      <td>2.3</td>\n",
       "      <td>0.076</td>\n",
       "      <td>29.0</td>\n",
       "      <td>40.0</td>\n",
       "      <td>0.99574</td>\n",
       "      <td>3.42</td>\n",
       "      <td>0.75</td>\n",
       "      <td>11.0</td>\n",
       "      <td>6.0</td>\n",
       "    </tr>\n",
       "    <tr>\n",
       "      <th>1598</th>\n",
       "      <td>1599</td>\n",
       "      <td>5.9</td>\n",
       "      <td>0.645</td>\n",
       "      <td>0.12</td>\n",
       "      <td>2.0</td>\n",
       "      <td>0.075</td>\n",
       "      <td>32.0</td>\n",
       "      <td>44.0</td>\n",
       "      <td>0.99547</td>\n",
       "      <td>3.57</td>\n",
       "      <td>0.71</td>\n",
       "      <td>10.2</td>\n",
       "      <td>5.0</td>\n",
       "    </tr>\n",
       "    <tr>\n",
       "      <th>1599</th>\n",
       "      <td>1600</td>\n",
       "      <td>6.0</td>\n",
       "      <td>0.310</td>\n",
       "      <td>0.47</td>\n",
       "      <td>3.6</td>\n",
       "      <td>0.067</td>\n",
       "      <td>18.0</td>\n",
       "      <td>42.0</td>\n",
       "      <td>0.99549</td>\n",
       "      <td>3.39</td>\n",
       "      <td>0.66</td>\n",
       "      <td>11.0</td>\n",
       "      <td>6.0</td>\n",
       "    </tr>\n",
       "    <tr>\n",
       "      <th>1600</th>\n",
       "      <td>1601</td>\n",
       "      <td>7.2</td>\n",
       "      <td>0.390</td>\n",
       "      <td>0.44</td>\n",
       "      <td>2.6</td>\n",
       "      <td>0.066</td>\n",
       "      <td>22.0</td>\n",
       "      <td>48.0</td>\n",
       "      <td>0.99494</td>\n",
       "      <td>3.30</td>\n",
       "      <td>0.84</td>\n",
       "      <td>11.5</td>\n",
       "      <td>6.0</td>\n",
       "    </tr>\n",
       "  </tbody>\n",
       "</table>\n",
       "<p>1601 rows × 13 columns</p>\n",
       "</div>"
      ],
      "text/plain": [
       "        ID  fixed acidity  volatile acidity  citric acid  residual sugar  \\\n",
       "0        1            7.4             0.700         0.00             1.9   \n",
       "1        2            7.8             0.880         0.00             2.6   \n",
       "2        3            7.8             0.760         0.04             2.3   \n",
       "3        4           11.2             0.280         0.56             1.9   \n",
       "4        5            7.4             0.700         0.00             1.9   \n",
       "...    ...            ...               ...          ...             ...   \n",
       "1596  1597            5.9             0.550         0.10             2.2   \n",
       "1597  1598            6.3             0.510         0.13             2.3   \n",
       "1598  1599            5.9             0.645         0.12             2.0   \n",
       "1599  1600            6.0             0.310         0.47             3.6   \n",
       "1600  1601            7.2             0.390         0.44             2.6   \n",
       "\n",
       "      chlorides  free sulfur dioxide  total sulfur dioxide  density    pH  \\\n",
       "0         0.076                 11.0                  34.0  0.99780  3.51   \n",
       "1         0.098                 25.0                  67.0  0.99680  3.20   \n",
       "2         0.092                 15.0                  54.0  0.99700   NaN   \n",
       "3         0.075                 17.0                  60.0  0.99800  3.16   \n",
       "4         0.076                 11.0                  34.0  0.99780  3.51   \n",
       "...         ...                  ...                   ...      ...   ...   \n",
       "1596      0.062                 39.0                  51.0  0.99512  3.52   \n",
       "1597      0.076                 29.0                  40.0  0.99574  3.42   \n",
       "1598      0.075                 32.0                  44.0  0.99547  3.57   \n",
       "1599      0.067                 18.0                  42.0  0.99549  3.39   \n",
       "1600      0.066                 22.0                  48.0  0.99494  3.30   \n",
       "\n",
       "      sulphates  alcohol  quality  \n",
       "0          0.56      9.4      5.0  \n",
       "1          0.68      9.8      5.0  \n",
       "2          0.65      9.8      5.0  \n",
       "3          0.58      9.8      6.0  \n",
       "4          0.56      9.4      5.0  \n",
       "...         ...      ...      ...  \n",
       "1596       0.76     11.2      6.0  \n",
       "1597       0.75     11.0      6.0  \n",
       "1598       0.71     10.2      5.0  \n",
       "1599       0.66     11.0      6.0  \n",
       "1600       0.84     11.5      6.0  \n",
       "\n",
       "[1601 rows x 13 columns]"
      ]
     },
     "execution_count": 4,
     "metadata": {},
     "output_type": "execute_result"
    }
   ],
   "source": [
    "df"
   ]
  },
  {
   "cell_type": "markdown",
   "id": "20640ae9",
   "metadata": {},
   "source": [
    "## Null Count\n",
    "---\n",
    "__Null count__ shows the missing values in a column in a DataFrame. If we want to determine the the number of missing values in each column, we use;"
   ]
  },
  {
   "cell_type": "code",
   "execution_count": 5,
   "id": "7d6c8b42",
   "metadata": {},
   "outputs": [],
   "source": [
    "null_counts = df.isnull().sum()"
   ]
  },
  {
   "cell_type": "code",
   "execution_count": 6,
   "id": "a13ac6db",
   "metadata": {},
   "outputs": [
    {
     "name": "stdout",
     "output_type": "stream",
     "text": [
      "ID                      0\n",
      "fixed acidity           1\n",
      "volatile acidity        0\n",
      "citric acid             1\n",
      "residual sugar          0\n",
      "chlorides               3\n",
      "free sulfur dioxide     1\n",
      "total sulfur dioxide    1\n",
      "density                 1\n",
      "pH                      1\n",
      "sulphates               0\n",
      "alcohol                 0\n",
      "quality                 1\n",
      "dtype: int64\n"
     ]
    }
   ],
   "source": [
    "print(null_counts)"
   ]
  },
  {
   "cell_type": "markdown",
   "id": "02dff442",
   "metadata": {},
   "source": [
    "We have ten null count values. In determining the location of the null values; "
   ]
  },
  {
   "cell_type": "code",
   "execution_count": 7,
   "id": "e58db8ab",
   "metadata": {},
   "outputs": [
    {
     "name": "stdout",
     "output_type": "stream",
     "text": [
      "Null value at row 2 and column pH\n",
      "Null value at row 10 and column total sulfur dioxide\n",
      "Null value at row 23 and column citric acid\n",
      "Null value at row 179 and column free sulfur dioxide\n",
      "Null value at row 581 and column quality\n",
      "Null value at row 1113 and column chlorides\n",
      "Null value at row 1231 and column density\n",
      "Null value at row 1584 and column chlorides\n",
      "Null value at row 1585 and column chlorides\n",
      "Null value at row 1595 and column fixed acidity\n"
     ]
    }
   ],
   "source": [
    "# Find the location of null values in the DataFrame\n",
    "import numpy as np\n",
    "null_locations = np.where(df.isnull())\n",
    "# Print the locations of the null values\n",
    "for row, col in zip(null_locations[0], null_locations[1]):\n",
    "    print(f\"Null value at row {row} and column {df.columns[col]}\")"
   ]
  },
  {
   "cell_type": "markdown",
   "id": "496f582e",
   "metadata": {},
   "source": [
    "## Duplicate Values\n",
    "___\n",
    "__Duplicates__ in the DataFrame are rows that contain the same values in one or more columns, but not all the columns. DUplicates can occur has a result in data entry errors, lack of unique identifiers, etc. In determining the number of duplicates and their locations;"
   ]
  },
  {
   "cell_type": "code",
   "execution_count": 11,
   "id": "98b5409f",
   "metadata": {},
   "outputs": [
    {
     "name": "stdout",
     "output_type": "stream",
     "text": [
      "There are 0 duplicate rows in the DataFrame.\n",
      "Duplicate rows in the DataFrame:\n",
      "Empty DataFrame\n",
      "Columns: [ID, fixed acidity, volatile acidity, citric acid, residual sugar, chlorides, free sulfur dioxide, total sulfur dioxide, density, pH, sulphates, alcohol, quality]\n",
      "Index: []\n"
     ]
    }
   ],
   "source": [
    "# Find the number of duplicates\n",
    "number_duplicates = df.duplicated().sum()\n",
    "\n",
    "# Print the number of duplicates\n",
    "print(f\"There are {number_duplicates} duplicate rows in the DataFrame.\")\n",
    "\n",
    "# Find the duplicate rows\n",
    "duplicate_rows = df[df.duplicated()]\n",
    "\n",
    "# Print the duplicate rows\n",
    "print(\"Duplicate rows in the DataFrame:\")\n",
    "print(duplicate_rows)"
   ]
  },
  {
   "cell_type": "markdown",
   "id": "d5b34018",
   "metadata": {},
   "source": [
    "### Pre-Processing DataFrame\n",
    "---\n",
    "In pre-processing the data to get rid of all null values and duplicates;"
   ]
  },
  {
   "cell_type": "code",
   "execution_count": 12,
   "id": "f314c7d4",
   "metadata": {},
   "outputs": [
    {
     "name": "stdout",
     "output_type": "stream",
     "text": [
      "Original DataFrame:\n",
      "         ID  fixed acidity  volatile acidity  citric acid  residual sugar  \\\n",
      "0        1            7.4             0.700         0.00             1.9   \n",
      "1        2            7.8             0.880         0.00             2.6   \n",
      "2        3            7.8             0.760         0.04             2.3   \n",
      "3        4           11.2             0.280         0.56             1.9   \n",
      "4        5            7.4             0.700         0.00             1.9   \n",
      "...    ...            ...               ...          ...             ...   \n",
      "1596  1597            5.9             0.550         0.10             2.2   \n",
      "1597  1598            6.3             0.510         0.13             2.3   \n",
      "1598  1599            5.9             0.645         0.12             2.0   \n",
      "1599  1600            6.0             0.310         0.47             3.6   \n",
      "1600  1601            7.2             0.390         0.44             2.6   \n",
      "\n",
      "      chlorides  free sulfur dioxide  total sulfur dioxide  density    pH  \\\n",
      "0         0.076                 11.0                  34.0  0.99780  3.51   \n",
      "1         0.098                 25.0                  67.0  0.99680  3.20   \n",
      "2         0.092                 15.0                  54.0  0.99700   NaN   \n",
      "3         0.075                 17.0                  60.0  0.99800  3.16   \n",
      "4         0.076                 11.0                  34.0  0.99780  3.51   \n",
      "...         ...                  ...                   ...      ...   ...   \n",
      "1596      0.062                 39.0                  51.0  0.99512  3.52   \n",
      "1597      0.076                 29.0                  40.0  0.99574  3.42   \n",
      "1598      0.075                 32.0                  44.0  0.99547  3.57   \n",
      "1599      0.067                 18.0                  42.0  0.99549  3.39   \n",
      "1600      0.066                 22.0                  48.0  0.99494  3.30   \n",
      "\n",
      "      sulphates  alcohol  quality  \n",
      "0          0.56      9.4      5.0  \n",
      "1          0.68      9.8      5.0  \n",
      "2          0.65      9.8      5.0  \n",
      "3          0.58      9.8      6.0  \n",
      "4          0.56      9.4      5.0  \n",
      "...         ...      ...      ...  \n",
      "1596       0.76     11.2      6.0  \n",
      "1597       0.75     11.0      6.0  \n",
      "1598       0.71     10.2      5.0  \n",
      "1599       0.66     11.0      6.0  \n",
      "1600       0.84     11.5      6.0  \n",
      "\n",
      "[1601 rows x 13 columns]\n",
      "DataFrame without null count values:\n",
      "         ID  fixed acidity  volatile acidity  citric acid  residual sugar  \\\n",
      "0        1            7.4             0.700         0.00             1.9   \n",
      "1        2            7.8             0.880         0.00             2.6   \n",
      "3        4           11.2             0.280         0.56             1.9   \n",
      "4        5            7.4             0.700         0.00             1.9   \n",
      "5        6            7.4             0.660         0.00             1.8   \n",
      "...    ...            ...               ...          ...             ...   \n",
      "1596  1597            5.9             0.550         0.10             2.2   \n",
      "1597  1598            6.3             0.510         0.13             2.3   \n",
      "1598  1599            5.9             0.645         0.12             2.0   \n",
      "1599  1600            6.0             0.310         0.47             3.6   \n",
      "1600  1601            7.2             0.390         0.44             2.6   \n",
      "\n",
      "      chlorides  free sulfur dioxide  total sulfur dioxide  density    pH  \\\n",
      "0         0.076                 11.0                  34.0  0.99780  3.51   \n",
      "1         0.098                 25.0                  67.0  0.99680  3.20   \n",
      "3         0.075                 17.0                  60.0  0.99800  3.16   \n",
      "4         0.076                 11.0                  34.0  0.99780  3.51   \n",
      "5         0.075                 13.0                  40.0  0.99780  3.51   \n",
      "...         ...                  ...                   ...      ...   ...   \n",
      "1596      0.062                 39.0                  51.0  0.99512  3.52   \n",
      "1597      0.076                 29.0                  40.0  0.99574  3.42   \n",
      "1598      0.075                 32.0                  44.0  0.99547  3.57   \n",
      "1599      0.067                 18.0                  42.0  0.99549  3.39   \n",
      "1600      0.066                 22.0                  48.0  0.99494  3.30   \n",
      "\n",
      "      sulphates  alcohol  quality  \n",
      "0          0.56      9.4      5.0  \n",
      "1          0.68      9.8      5.0  \n",
      "3          0.58      9.8      6.0  \n",
      "4          0.56      9.4      5.0  \n",
      "5          0.56      9.4      5.0  \n",
      "...         ...      ...      ...  \n",
      "1596       0.76     11.2      6.0  \n",
      "1597       0.75     11.0      6.0  \n",
      "1598       0.71     10.2      5.0  \n",
      "1599       0.66     11.0      6.0  \n",
      "1600       0.84     11.5      6.0  \n",
      "\n",
      "[1591 rows x 13 columns]\n"
     ]
    }
   ],
   "source": [
    "# Print the original DataFrame\n",
    "print('Original DataFrame:\\n',df)\n",
    "\n",
    "#Remove null count values\n",
    "# Remove any rows with missing values\n",
    "df = df.dropna()\n",
    "\n",
    "# Print the DataFrame without null count values\n",
    "print('DataFrame without null count values:\\n',df)"
   ]
  },
  {
   "cell_type": "code",
   "execution_count": 13,
   "id": "9c4e2cfa",
   "metadata": {},
   "outputs": [
    {
     "name": "stdout",
     "output_type": "stream",
     "text": [
      "Original DataFrame:\n",
      "         ID  fixed acidity  volatile acidity  citric acid  residual sugar  \\\n",
      "0        1            7.4             0.700         0.00             1.9   \n",
      "1        2            7.8             0.880         0.00             2.6   \n",
      "3        4           11.2             0.280         0.56             1.9   \n",
      "4        5            7.4             0.700         0.00             1.9   \n",
      "5        6            7.4             0.660         0.00             1.8   \n",
      "...    ...            ...               ...          ...             ...   \n",
      "1596  1597            5.9             0.550         0.10             2.2   \n",
      "1597  1598            6.3             0.510         0.13             2.3   \n",
      "1598  1599            5.9             0.645         0.12             2.0   \n",
      "1599  1600            6.0             0.310         0.47             3.6   \n",
      "1600  1601            7.2             0.390         0.44             2.6   \n",
      "\n",
      "      chlorides  free sulfur dioxide  total sulfur dioxide  density    pH  \\\n",
      "0         0.076                 11.0                  34.0  0.99780  3.51   \n",
      "1         0.098                 25.0                  67.0  0.99680  3.20   \n",
      "3         0.075                 17.0                  60.0  0.99800  3.16   \n",
      "4         0.076                 11.0                  34.0  0.99780  3.51   \n",
      "5         0.075                 13.0                  40.0  0.99780  3.51   \n",
      "...         ...                  ...                   ...      ...   ...   \n",
      "1596      0.062                 39.0                  51.0  0.99512  3.52   \n",
      "1597      0.076                 29.0                  40.0  0.99574  3.42   \n",
      "1598      0.075                 32.0                  44.0  0.99547  3.57   \n",
      "1599      0.067                 18.0                  42.0  0.99549  3.39   \n",
      "1600      0.066                 22.0                  48.0  0.99494  3.30   \n",
      "\n",
      "      sulphates  alcohol  quality  \n",
      "0          0.56      9.4      5.0  \n",
      "1          0.68      9.8      5.0  \n",
      "3          0.58      9.8      6.0  \n",
      "4          0.56      9.4      5.0  \n",
      "5          0.56      9.4      5.0  \n",
      "...         ...      ...      ...  \n",
      "1596       0.76     11.2      6.0  \n",
      "1597       0.75     11.0      6.0  \n",
      "1598       0.71     10.2      5.0  \n",
      "1599       0.66     11.0      6.0  \n",
      "1600       0.84     11.5      6.0  \n",
      "\n",
      "[1591 rows x 13 columns]\n",
      "DataFrame without duplicates:\n",
      "         ID  fixed acidity  volatile acidity  citric acid  residual sugar  \\\n",
      "0        1            7.4             0.700         0.00             1.9   \n",
      "1        2            7.8             0.880         0.00             2.6   \n",
      "3        4           11.2             0.280         0.56             1.9   \n",
      "4        5            7.4             0.700         0.00             1.9   \n",
      "5        6            7.4             0.660         0.00             1.8   \n",
      "...    ...            ...               ...          ...             ...   \n",
      "1596  1597            5.9             0.550         0.10             2.2   \n",
      "1597  1598            6.3             0.510         0.13             2.3   \n",
      "1598  1599            5.9             0.645         0.12             2.0   \n",
      "1599  1600            6.0             0.310         0.47             3.6   \n",
      "1600  1601            7.2             0.390         0.44             2.6   \n",
      "\n",
      "      chlorides  free sulfur dioxide  total sulfur dioxide  density    pH  \\\n",
      "0         0.076                 11.0                  34.0  0.99780  3.51   \n",
      "1         0.098                 25.0                  67.0  0.99680  3.20   \n",
      "3         0.075                 17.0                  60.0  0.99800  3.16   \n",
      "4         0.076                 11.0                  34.0  0.99780  3.51   \n",
      "5         0.075                 13.0                  40.0  0.99780  3.51   \n",
      "...         ...                  ...                   ...      ...   ...   \n",
      "1596      0.062                 39.0                  51.0  0.99512  3.52   \n",
      "1597      0.076                 29.0                  40.0  0.99574  3.42   \n",
      "1598      0.075                 32.0                  44.0  0.99547  3.57   \n",
      "1599      0.067                 18.0                  42.0  0.99549  3.39   \n",
      "1600      0.066                 22.0                  48.0  0.99494  3.30   \n",
      "\n",
      "      sulphates  alcohol  quality  \n",
      "0          0.56      9.4      5.0  \n",
      "1          0.68      9.8      5.0  \n",
      "3          0.58      9.8      6.0  \n",
      "4          0.56      9.4      5.0  \n",
      "5          0.56      9.4      5.0  \n",
      "...         ...      ...      ...  \n",
      "1596       0.76     11.2      6.0  \n",
      "1597       0.75     11.0      6.0  \n",
      "1598       0.71     10.2      5.0  \n",
      "1599       0.66     11.0      6.0  \n",
      "1600       0.84     11.5      6.0  \n",
      "\n",
      "[1591 rows x 13 columns]\n"
     ]
    }
   ],
   "source": [
    "# Print the original DataFrame\n",
    "print('Original DataFrame:\\n',df)\n",
    "\n",
    "\n",
    "# Remove duplicate rows\n",
    "df = df.drop_duplicates()\n",
    "\n",
    "# Print the DataFrame without duplicates\n",
    "print('DataFrame without duplicates:\\n',df)"
   ]
  },
  {
   "cell_type": "markdown",
   "id": "33429566",
   "metadata": {},
   "source": [
    "The analysis above shows that there are no duplicates.\n",
    "\n",
    "### Using the Dropna method for Null values\n",
    "---\n",
    "The dropna() method removes the rows that contains null values. The dropna() method returns a new DataFrame object unless the inplace parameter is set to True, in that case the dropna() method does the removing in the original DataFrame instead.\n",
    "\n",
    "\n",
    "\n",
    "### Statistical Inferences of Dataset (df)\n",
    "---"
   ]
  },
  {
   "cell_type": "code",
   "execution_count": 14,
   "id": "fe11d7a5",
   "metadata": {},
   "outputs": [
    {
     "data": {
      "text/html": [
       "<div>\n",
       "<style scoped>\n",
       "    .dataframe tbody tr th:only-of-type {\n",
       "        vertical-align: middle;\n",
       "    }\n",
       "\n",
       "    .dataframe tbody tr th {\n",
       "        vertical-align: top;\n",
       "    }\n",
       "\n",
       "    .dataframe thead th {\n",
       "        text-align: right;\n",
       "    }\n",
       "</style>\n",
       "<table border=\"1\" class=\"dataframe\">\n",
       "  <thead>\n",
       "    <tr style=\"text-align: right;\">\n",
       "      <th></th>\n",
       "      <th>ID</th>\n",
       "      <th>fixed acidity</th>\n",
       "      <th>volatile acidity</th>\n",
       "      <th>citric acid</th>\n",
       "      <th>residual sugar</th>\n",
       "      <th>chlorides</th>\n",
       "      <th>free sulfur dioxide</th>\n",
       "      <th>total sulfur dioxide</th>\n",
       "      <th>density</th>\n",
       "      <th>pH</th>\n",
       "      <th>sulphates</th>\n",
       "      <th>alcohol</th>\n",
       "      <th>quality</th>\n",
       "    </tr>\n",
       "  </thead>\n",
       "  <tbody>\n",
       "    <tr>\n",
       "      <th>count</th>\n",
       "      <td>1591.000000</td>\n",
       "      <td>1591.000000</td>\n",
       "      <td>1591.000000</td>\n",
       "      <td>1591.000000</td>\n",
       "      <td>1591.000000</td>\n",
       "      <td>1591.000000</td>\n",
       "      <td>1591.000000</td>\n",
       "      <td>1591.000000</td>\n",
       "      <td>1591.000000</td>\n",
       "      <td>1591.000000</td>\n",
       "      <td>1591.000000</td>\n",
       "      <td>1591.000000</td>\n",
       "      <td>1591.000000</td>\n",
       "    </tr>\n",
       "    <tr>\n",
       "      <th>mean</th>\n",
       "      <td>801.060968</td>\n",
       "      <td>8.320616</td>\n",
       "      <td>0.527681</td>\n",
       "      <td>0.271477</td>\n",
       "      <td>2.540761</td>\n",
       "      <td>0.087500</td>\n",
       "      <td>15.861722</td>\n",
       "      <td>46.498429</td>\n",
       "      <td>0.996747</td>\n",
       "      <td>3.311358</td>\n",
       "      <td>0.658611</td>\n",
       "      <td>10.426053</td>\n",
       "      <td>5.637964</td>\n",
       "    </tr>\n",
       "    <tr>\n",
       "      <th>std</th>\n",
       "      <td>460.740942</td>\n",
       "      <td>1.740134</td>\n",
       "      <td>0.179045</td>\n",
       "      <td>0.194807</td>\n",
       "      <td>1.413076</td>\n",
       "      <td>0.047175</td>\n",
       "      <td>10.429385</td>\n",
       "      <td>32.998659</td>\n",
       "      <td>0.001889</td>\n",
       "      <td>0.154548</td>\n",
       "      <td>0.169786</td>\n",
       "      <td>1.066706</td>\n",
       "      <td>0.807772</td>\n",
       "    </tr>\n",
       "    <tr>\n",
       "      <th>min</th>\n",
       "      <td>1.000000</td>\n",
       "      <td>4.600000</td>\n",
       "      <td>0.120000</td>\n",
       "      <td>0.000000</td>\n",
       "      <td>0.900000</td>\n",
       "      <td>0.012000</td>\n",
       "      <td>1.000000</td>\n",
       "      <td>6.000000</td>\n",
       "      <td>0.990070</td>\n",
       "      <td>2.740000</td>\n",
       "      <td>0.330000</td>\n",
       "      <td>8.400000</td>\n",
       "      <td>3.000000</td>\n",
       "    </tr>\n",
       "    <tr>\n",
       "      <th>25%</th>\n",
       "      <td>402.500000</td>\n",
       "      <td>7.100000</td>\n",
       "      <td>0.390000</td>\n",
       "      <td>0.090000</td>\n",
       "      <td>1.900000</td>\n",
       "      <td>0.070000</td>\n",
       "      <td>7.000000</td>\n",
       "      <td>22.000000</td>\n",
       "      <td>0.995600</td>\n",
       "      <td>3.210000</td>\n",
       "      <td>0.550000</td>\n",
       "      <td>9.500000</td>\n",
       "      <td>5.000000</td>\n",
       "    </tr>\n",
       "    <tr>\n",
       "      <th>50%</th>\n",
       "      <td>801.000000</td>\n",
       "      <td>7.900000</td>\n",
       "      <td>0.520000</td>\n",
       "      <td>0.260000</td>\n",
       "      <td>2.200000</td>\n",
       "      <td>0.079000</td>\n",
       "      <td>14.000000</td>\n",
       "      <td>38.000000</td>\n",
       "      <td>0.996750</td>\n",
       "      <td>3.310000</td>\n",
       "      <td>0.620000</td>\n",
       "      <td>10.200000</td>\n",
       "      <td>6.000000</td>\n",
       "    </tr>\n",
       "    <tr>\n",
       "      <th>75%</th>\n",
       "      <td>1199.500000</td>\n",
       "      <td>9.200000</td>\n",
       "      <td>0.640000</td>\n",
       "      <td>0.420000</td>\n",
       "      <td>2.600000</td>\n",
       "      <td>0.090000</td>\n",
       "      <td>21.000000</td>\n",
       "      <td>62.000000</td>\n",
       "      <td>0.997845</td>\n",
       "      <td>3.400000</td>\n",
       "      <td>0.730000</td>\n",
       "      <td>11.100000</td>\n",
       "      <td>6.000000</td>\n",
       "    </tr>\n",
       "    <tr>\n",
       "      <th>max</th>\n",
       "      <td>1601.000000</td>\n",
       "      <td>15.900000</td>\n",
       "      <td>1.580000</td>\n",
       "      <td>1.000000</td>\n",
       "      <td>15.500000</td>\n",
       "      <td>0.611000</td>\n",
       "      <td>72.000000</td>\n",
       "      <td>289.000000</td>\n",
       "      <td>1.003690</td>\n",
       "      <td>4.010000</td>\n",
       "      <td>2.000000</td>\n",
       "      <td>14.900000</td>\n",
       "      <td>8.000000</td>\n",
       "    </tr>\n",
       "  </tbody>\n",
       "</table>\n",
       "</div>"
      ],
      "text/plain": [
       "                ID  fixed acidity  volatile acidity  citric acid  \\\n",
       "count  1591.000000    1591.000000       1591.000000  1591.000000   \n",
       "mean    801.060968       8.320616          0.527681     0.271477   \n",
       "std     460.740942       1.740134          0.179045     0.194807   \n",
       "min       1.000000       4.600000          0.120000     0.000000   \n",
       "25%     402.500000       7.100000          0.390000     0.090000   \n",
       "50%     801.000000       7.900000          0.520000     0.260000   \n",
       "75%    1199.500000       9.200000          0.640000     0.420000   \n",
       "max    1601.000000      15.900000          1.580000     1.000000   \n",
       "\n",
       "       residual sugar    chlorides  free sulfur dioxide  total sulfur dioxide  \\\n",
       "count     1591.000000  1591.000000          1591.000000           1591.000000   \n",
       "mean         2.540761     0.087500            15.861722             46.498429   \n",
       "std          1.413076     0.047175            10.429385             32.998659   \n",
       "min          0.900000     0.012000             1.000000              6.000000   \n",
       "25%          1.900000     0.070000             7.000000             22.000000   \n",
       "50%          2.200000     0.079000            14.000000             38.000000   \n",
       "75%          2.600000     0.090000            21.000000             62.000000   \n",
       "max         15.500000     0.611000            72.000000            289.000000   \n",
       "\n",
       "           density           pH    sulphates      alcohol      quality  \n",
       "count  1591.000000  1591.000000  1591.000000  1591.000000  1591.000000  \n",
       "mean      0.996747     3.311358     0.658611    10.426053     5.637964  \n",
       "std       0.001889     0.154548     0.169786     1.066706     0.807772  \n",
       "min       0.990070     2.740000     0.330000     8.400000     3.000000  \n",
       "25%       0.995600     3.210000     0.550000     9.500000     5.000000  \n",
       "50%       0.996750     3.310000     0.620000    10.200000     6.000000  \n",
       "75%       0.997845     3.400000     0.730000    11.100000     6.000000  \n",
       "max       1.003690     4.010000     2.000000    14.900000     8.000000  "
      ]
     },
     "execution_count": 14,
     "metadata": {},
     "output_type": "execute_result"
    }
   ],
   "source": [
    "df = df.dropna()\n",
    "df.describe()"
   ]
  },
  {
   "cell_type": "markdown",
   "id": "07d875d6",
   "metadata": {},
   "source": [
    "### Statistical Inferences of Individual Columns\n",
    "---\n",
    "For the column fixed acidity;"
   ]
  },
  {
   "cell_type": "code",
   "execution_count": 15,
   "id": "5cabfe01",
   "metadata": {},
   "outputs": [
    {
     "data": {
      "text/plain": [
       "count    1591.000000\n",
       "mean        8.320616\n",
       "std         1.740134\n",
       "min         4.600000\n",
       "25%         7.100000\n",
       "50%         7.900000\n",
       "75%         9.200000\n",
       "max        15.900000\n",
       "Name: fixed acidity, dtype: float64"
      ]
     },
     "execution_count": 15,
     "metadata": {},
     "output_type": "execute_result"
    }
   ],
   "source": [
    "df['fixed acidity'].describe()"
   ]
  },
  {
   "cell_type": "markdown",
   "id": "89ad86f8",
   "metadata": {},
   "source": [
    "For the column volatile acidity;"
   ]
  },
  {
   "cell_type": "code",
   "execution_count": 16,
   "id": "8b00a3c9",
   "metadata": {},
   "outputs": [
    {
     "data": {
      "text/plain": [
       "count    1591.000000\n",
       "mean        0.527681\n",
       "std         0.179045\n",
       "min         0.120000\n",
       "25%         0.390000\n",
       "50%         0.520000\n",
       "75%         0.640000\n",
       "max         1.580000\n",
       "Name: volatile acidity, dtype: float64"
      ]
     },
     "execution_count": 16,
     "metadata": {},
     "output_type": "execute_result"
    }
   ],
   "source": [
    "df['volatile acidity'].describe()"
   ]
  },
  {
   "cell_type": "markdown",
   "id": "f4b36373",
   "metadata": {},
   "source": [
    "For the column citric acid"
   ]
  },
  {
   "cell_type": "code",
   "execution_count": 17,
   "id": "b9661cfd",
   "metadata": {},
   "outputs": [
    {
     "data": {
      "text/plain": [
       "count    1591.000000\n",
       "mean        0.271477\n",
       "std         0.194807\n",
       "min         0.000000\n",
       "25%         0.090000\n",
       "50%         0.260000\n",
       "75%         0.420000\n",
       "max         1.000000\n",
       "Name: citric acid, dtype: float64"
      ]
     },
     "execution_count": 17,
     "metadata": {},
     "output_type": "execute_result"
    }
   ],
   "source": [
    "df['citric acid'].describe()"
   ]
  },
  {
   "cell_type": "markdown",
   "id": "27c3e56b",
   "metadata": {},
   "source": [
    "For the column residual sugar;"
   ]
  },
  {
   "cell_type": "code",
   "execution_count": 18,
   "id": "56e0901e",
   "metadata": {},
   "outputs": [
    {
     "data": {
      "text/plain": [
       "count    1591.000000\n",
       "mean        2.540761\n",
       "std         1.413076\n",
       "min         0.900000\n",
       "25%         1.900000\n",
       "50%         2.200000\n",
       "75%         2.600000\n",
       "max        15.500000\n",
       "Name: residual sugar, dtype: float64"
      ]
     },
     "execution_count": 18,
     "metadata": {},
     "output_type": "execute_result"
    }
   ],
   "source": [
    "df['residual sugar'].describe()"
   ]
  },
  {
   "cell_type": "markdown",
   "id": "1ced7dd7",
   "metadata": {},
   "source": [
    "For the column chlorides;"
   ]
  },
  {
   "cell_type": "code",
   "execution_count": 19,
   "id": "450a8e78",
   "metadata": {},
   "outputs": [
    {
     "data": {
      "text/plain": [
       "count    1591.000000\n",
       "mean        0.087500\n",
       "std         0.047175\n",
       "min         0.012000\n",
       "25%         0.070000\n",
       "50%         0.079000\n",
       "75%         0.090000\n",
       "max         0.611000\n",
       "Name: chlorides, dtype: float64"
      ]
     },
     "execution_count": 19,
     "metadata": {},
     "output_type": "execute_result"
    }
   ],
   "source": [
    "df['chlorides'].describe()"
   ]
  },
  {
   "cell_type": "markdown",
   "id": "9418bba1",
   "metadata": {},
   "source": [
    "For the column free sulfur dioxide;"
   ]
  },
  {
   "cell_type": "code",
   "execution_count": 21,
   "id": "e13baa85",
   "metadata": {},
   "outputs": [
    {
     "data": {
      "text/plain": [
       "count    1591.000000\n",
       "mean       15.861722\n",
       "std        10.429385\n",
       "min         1.000000\n",
       "25%         7.000000\n",
       "50%        14.000000\n",
       "75%        21.000000\n",
       "max        72.000000\n",
       "Name: free sulfur dioxide, dtype: float64"
      ]
     },
     "execution_count": 21,
     "metadata": {},
     "output_type": "execute_result"
    }
   ],
   "source": [
    "df['free sulfur dioxide'].describe()"
   ]
  },
  {
   "cell_type": "markdown",
   "id": "4b60b97f",
   "metadata": {},
   "source": [
    "For the column total sulfur dioxide;"
   ]
  },
  {
   "cell_type": "code",
   "execution_count": 25,
   "id": "0662bb5b",
   "metadata": {},
   "outputs": [
    {
     "data": {
      "text/plain": [
       "count    1591.000000\n",
       "mean       46.498429\n",
       "std        32.998659\n",
       "min         6.000000\n",
       "25%        22.000000\n",
       "50%        38.000000\n",
       "75%        62.000000\n",
       "max       289.000000\n",
       "Name: total sulfur dioxide, dtype: float64"
      ]
     },
     "execution_count": 25,
     "metadata": {},
     "output_type": "execute_result"
    }
   ],
   "source": [
    "df['total sulfur dioxide'].describe()"
   ]
  },
  {
   "cell_type": "markdown",
   "id": "894f866c",
   "metadata": {},
   "source": [
    "For the column density;"
   ]
  },
  {
   "cell_type": "code",
   "execution_count": 26,
   "id": "9d220b31",
   "metadata": {},
   "outputs": [
    {
     "data": {
      "text/plain": [
       "count    1591.000000\n",
       "mean        0.996747\n",
       "std         0.001889\n",
       "min         0.990070\n",
       "25%         0.995600\n",
       "50%         0.996750\n",
       "75%         0.997845\n",
       "max         1.003690\n",
       "Name: density, dtype: float64"
      ]
     },
     "execution_count": 26,
     "metadata": {},
     "output_type": "execute_result"
    }
   ],
   "source": [
    "df['density'].describe()"
   ]
  },
  {
   "cell_type": "markdown",
   "id": "b3b6b114",
   "metadata": {},
   "source": [
    "For the column pH;"
   ]
  },
  {
   "cell_type": "code",
   "execution_count": 27,
   "id": "7c445e9a",
   "metadata": {},
   "outputs": [
    {
     "data": {
      "text/plain": [
       "count    1591.000000\n",
       "mean        3.311358\n",
       "std         0.154548\n",
       "min         2.740000\n",
       "25%         3.210000\n",
       "50%         3.310000\n",
       "75%         3.400000\n",
       "max         4.010000\n",
       "Name: pH, dtype: float64"
      ]
     },
     "execution_count": 27,
     "metadata": {},
     "output_type": "execute_result"
    }
   ],
   "source": [
    "df['pH'].describe()"
   ]
  },
  {
   "cell_type": "markdown",
   "id": "bb08acf7",
   "metadata": {},
   "source": [
    "For the column sulphates;"
   ]
  },
  {
   "cell_type": "code",
   "execution_count": 28,
   "id": "5315bc4c",
   "metadata": {},
   "outputs": [
    {
     "data": {
      "text/plain": [
       "count    1591.000000\n",
       "mean        0.658611\n",
       "std         0.169786\n",
       "min         0.330000\n",
       "25%         0.550000\n",
       "50%         0.620000\n",
       "75%         0.730000\n",
       "max         2.000000\n",
       "Name: sulphates, dtype: float64"
      ]
     },
     "execution_count": 28,
     "metadata": {},
     "output_type": "execute_result"
    }
   ],
   "source": [
    "df['sulphates'].describe()"
   ]
  },
  {
   "cell_type": "markdown",
   "id": "2ab1849f",
   "metadata": {},
   "source": [
    "For the column alcohol;"
   ]
  },
  {
   "cell_type": "code",
   "execution_count": 29,
   "id": "46f5a90f",
   "metadata": {},
   "outputs": [
    {
     "data": {
      "text/plain": [
       "count    1591.000000\n",
       "mean       10.426053\n",
       "std         1.066706\n",
       "min         8.400000\n",
       "25%         9.500000\n",
       "50%        10.200000\n",
       "75%        11.100000\n",
       "max        14.900000\n",
       "Name: alcohol, dtype: float64"
      ]
     },
     "execution_count": 29,
     "metadata": {},
     "output_type": "execute_result"
    }
   ],
   "source": [
    "df['alcohol'].describe()"
   ]
  },
  {
   "cell_type": "markdown",
   "id": "8cffaf42",
   "metadata": {},
   "source": [
    "For rhe column quality;"
   ]
  },
  {
   "cell_type": "code",
   "execution_count": 30,
   "id": "97c50982",
   "metadata": {},
   "outputs": [
    {
     "data": {
      "text/plain": [
       "count    1591.000000\n",
       "mean        5.637964\n",
       "std         0.807772\n",
       "min         3.000000\n",
       "25%         5.000000\n",
       "50%         6.000000\n",
       "75%         6.000000\n",
       "max         8.000000\n",
       "Name: quality, dtype: float64"
      ]
     },
     "execution_count": 30,
     "metadata": {},
     "output_type": "execute_result"
    }
   ],
   "source": [
    "df['quality'].describe()"
   ]
  },
  {
   "cell_type": "markdown",
   "id": "035fd9b9",
   "metadata": {},
   "source": [
    "### Hidden Inferences \n",
    "---\n",
    "Hidden inferences in Jupyter Dataframe help make data analysis more efficient. Some hidden inferences in Jupyter are; column, index, etc. Jupyter Dataframe automatically infers the data types of columns based on the data in the first few rows."
   ]
  },
  {
   "cell_type": "code",
   "execution_count": null,
   "id": "23927f19",
   "metadata": {},
   "outputs": [],
   "source": []
  }
 ],
 "metadata": {
  "kernelspec": {
   "display_name": "Python 3 (ipykernel)",
   "language": "python",
   "name": "python3"
  },
  "language_info": {
   "codemirror_mode": {
    "name": "ipython",
    "version": 3
   },
   "file_extension": ".py",
   "mimetype": "text/x-python",
   "name": "python",
   "nbconvert_exporter": "python",
   "pygments_lexer": "ipython3",
   "version": "3.11.1"
  }
 },
 "nbformat": 4,
 "nbformat_minor": 5
}
